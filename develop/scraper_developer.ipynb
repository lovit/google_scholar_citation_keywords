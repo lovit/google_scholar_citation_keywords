{
 "cells": [
  {
   "cell_type": "code",
   "execution_count": 6,
   "metadata": {
    "collapsed": false
   },
   "outputs": [
    {
     "data": {
      "text/plain": [
       "'2018-04-25_04-08-07'"
      ]
     },
     "execution_count": 6,
     "metadata": {},
     "output_type": "execute_result"
    }
   ],
   "source": [
    "from datetime import datetime\n",
    "\n",
    "def get_now_idx():\n",
    "    return datetime.now().strftime(\"%Y-%m-%d_%H-%M-%S\")\n",
    "\n",
    "get_now_idx()"
   ]
  },
  {
   "cell_type": "code",
   "execution_count": 7,
   "metadata": {
    "collapsed": true
   },
   "outputs": [],
   "source": [
    "import requests\n",
    "from bs4 import BeautifulSoup\n",
    "\n",
    "def get_soup(url):\n",
    "    r = requests.get(url)\n",
    "    html = r.text\n",
    "    page = BeautifulSoup(html, 'lxml')\n",
    "    return page\n",
    "\n",
    "start = 0\n",
    "front_url = 'https://scholar.google.co.kr/scholar?cites=14270678001885118036&as_sdt=2005&sciodt=0,5&hl=en&start={}'.format(start)"
   ]
  },
  {
   "cell_type": "code",
   "execution_count": 8,
   "metadata": {
    "collapsed": false
   },
   "outputs": [],
   "source": [
    "front_page = get_soup(front_url)"
   ]
  },
  {
   "cell_type": "code",
   "execution_count": 9,
   "metadata": {
    "collapsed": false
   },
   "outputs": [
    {
     "data": {
      "text/plain": [
       "['Cited by 4844']"
      ]
     },
     "execution_count": 9,
     "metadata": {},
     "output_type": "execute_result"
    }
   ],
   "source": [
    "import re\n",
    "\n",
    "year_pattern = re.compile('[\\d]{4}')\n",
    "citation_pattern = re.compile('Cited by [\\d]+')\n",
    "citation_pattern.findall(\"Cited by 4844\")"
   ]
  },
  {
   "cell_type": "code",
   "execution_count": 10,
   "metadata": {
    "collapsed": true
   },
   "outputs": [],
   "source": [
    "def parse_title(div):\n",
    "    try:\n",
    "        return div.select('h3[class=gs_rt]')[0].text\n",
    "    except Exception as e:\n",
    "        print(e)\n",
    "        return ''\n",
    "\n",
    "def parse_authors(div):\n",
    "    try:\n",
    "        # (user idx, name)\n",
    "        authors = div.select('div[class=gs_a] a')\n",
    "        authors = [(author.attrs.get('href', 'user=').split('user=')[1].split('&')[0], \n",
    "                    author.text)\n",
    "                   for author in authors]\n",
    "        return authors\n",
    "    except:\n",
    "        return []\n",
    "\n",
    "def parse_year(div):\n",
    "    year_pattern = re.compile('[\\d]{4}')\n",
    "    try:\n",
    "        return year_pattern.findall(\n",
    "            div.select('div[class=gs_a]')[0].text)[0]\n",
    "    except Exception as e:\n",
    "        # print(e)\n",
    "        return ''\n",
    "\n",
    "def parse_snippest(div):\n",
    "    try:\n",
    "        return div.select('div[class=gs_rs]')[0].text\n",
    "    except Exception as e:\n",
    "        print(e)\n",
    "        return ''\n",
    "\n",
    "def parse_num_of_citation(div):\n",
    "    citation_pattern = re.compile('Cited by [\\d]+')\n",
    "    try:\n",
    "        return citation_pattern.findall(\n",
    "            div.select('div[class=gs_fl]')[0].text)[0][8:].strip()\n",
    "    except:\n",
    "        return ''"
   ]
  },
  {
   "cell_type": "code",
   "execution_count": 11,
   "metadata": {
    "collapsed": false
   },
   "outputs": [
    {
     "data": {
      "text/plain": [
       "10"
      ]
     },
     "execution_count": 11,
     "metadata": {},
     "output_type": "execute_result"
    }
   ],
   "source": [
    "divs = front_page.select('div[class=gs_ri]')\n",
    "len(divs)"
   ]
  },
  {
   "cell_type": "code",
   "execution_count": 12,
   "metadata": {
    "collapsed": false
   },
   "outputs": [
    {
     "data": {
      "text/plain": [
       "'Deep learning'"
      ]
     },
     "execution_count": 12,
     "metadata": {},
     "output_type": "execute_result"
    }
   ],
   "source": [
    "parse_title(divs[0])"
   ]
  },
  {
   "cell_type": "code",
   "execution_count": 13,
   "metadata": {
    "collapsed": false
   },
   "outputs": [
    {
     "data": {
      "text/plain": [
       "[('WLN3QrAAAAAJ', 'Y LeCun'),\n",
       " ('kukA0LcAAAAJ', 'Y Bengio'),\n",
       " ('JicYPdAAAAAJ', 'G Hinton')]"
      ]
     },
     "execution_count": 13,
     "metadata": {},
     "output_type": "execute_result"
    }
   ],
   "source": [
    "parse_authors(divs[0])"
   ]
  },
  {
   "cell_type": "code",
   "execution_count": 14,
   "metadata": {
    "collapsed": false
   },
   "outputs": [
    {
     "data": {
      "text/plain": [
       "'2015'"
      ]
     },
     "execution_count": 14,
     "metadata": {},
     "output_type": "execute_result"
    }
   ],
   "source": [
    "parse_year(divs[0])"
   ]
  },
  {
   "cell_type": "code",
   "execution_count": 15,
   "metadata": {
    "collapsed": false
   },
   "outputs": [
    {
     "data": {
      "text/plain": [
       "'Deep learning allows computational models that are composed of multiple processing layers to learn representations of data with multiple levels of abstraction. These methods have dramatically improved the state-of-the-art in speech recognition, visual object\\xa0…'"
      ]
     },
     "execution_count": 15,
     "metadata": {},
     "output_type": "execute_result"
    }
   ],
   "source": [
    "parse_snippest(divs[0])"
   ]
  },
  {
   "cell_type": "code",
   "execution_count": 16,
   "metadata": {
    "collapsed": false
   },
   "outputs": [
    {
     "data": {
      "text/plain": [
       "'6944'"
      ]
     },
     "execution_count": 16,
     "metadata": {},
     "output_type": "execute_result"
    }
   ],
   "source": [
    "parse_num_of_citation(divs[0])"
   ]
  }
 ],
 "metadata": {
  "kernelspec": {
   "display_name": "Python [lovit]",
   "language": "python",
   "name": "Python [lovit]"
  },
  "language_info": {
   "codemirror_mode": {
    "name": "ipython",
    "version": 3
   },
   "file_extension": ".py",
   "mimetype": "text/x-python",
   "name": "python",
   "nbconvert_exporter": "python",
   "pygments_lexer": "ipython3",
   "version": "3.5.2"
  }
 },
 "nbformat": 4,
 "nbformat_minor": 0
}
